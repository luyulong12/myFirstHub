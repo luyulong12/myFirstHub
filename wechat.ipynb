{
 "cells": [
  {
   "cell_type": "code",
   "execution_count": 6,
   "metadata": {},
   "outputs": [],
   "source": [
    "#coding=utf8\n",
    "import itchat\n",
    "import datetime\n",
    "from itchat.content import TEXT\n",
    "import requests"
   ]
  },
  {
   "cell_type": "code",
   "execution_count": 4,
   "metadata": {},
   "outputs": [
    {
     "name": "stderr",
     "output_type": "stream",
     "text": [
      "Getting uuid of QR code.\n",
      "Downloading QR code.\n",
      "Please scan the QR code to log in.\n",
      "Please press confirm on your phone.\n",
      "Loading the contact, this may take a little while.\n",
      "Login successfully as 宇龙@路\n"
     ]
    }
   ],
   "source": [
    "itchat.auto_login(hotReload=True)"
   ]
  },
  {
   "cell_type": "code",
   "execution_count": 5,
   "metadata": {},
   "outputs": [
    {
     "name": "stdout",
     "output_type": "stream",
     "text": [
      "现在时间是：\n"
     ]
    },
    {
     "data": {
      "text/plain": [
       "<ItchatReturnValue: {'BaseResponse': {'Ret': 0, 'ErrMsg': '请求成功', 'RawMsg': '请求成功'}, 'MsgID': '7963853047534477258', 'LocalID': '15226752196540'}>"
      ]
     },
     "execution_count": 5,
     "metadata": {},
     "output_type": "execute_result"
    }
   ],
   "source": [
    "print('现在时间是：')\n",
    "datetime.datetime.now().strftime('%Y-%m-%d %H:%M:%S')\n",
    "itchat.send(\"asdfas\",\"filehelper\")\n",
    "itchat.send(\"1111\")"
   ]
  },
  {
   "cell_type": "code",
   "execution_count": null,
   "metadata": {},
   "outputs": [],
   "source": [
    "itchat.send_file(\"./cat.png\")"
   ]
  },
  {
   "cell_type": "code",
   "execution_count": null,
   "metadata": {},
   "outputs": [],
   "source": [
    "friends=itchat.get_friends()"
   ]
  },
  {
   "cell_type": "code",
   "execution_count": null,
   "metadata": {},
   "outputs": [],
   "source": [
    "type(friends)"
   ]
  },
  {
   "cell_type": "code",
   "execution_count": null,
   "metadata": {},
   "outputs": [],
   "source": [
    "f=friends[2]\n",
    "print(f)"
   ]
  },
  {
   "cell_type": "code",
   "execution_count": null,
   "metadata": {},
   "outputs": [],
   "source": [
    "f['NickName']"
   ]
  },
  {
   "cell_type": "code",
   "execution_count": null,
   "metadata": {},
   "outputs": [],
   "source": [
    "a=itchat.search_friends(name='雨天憧恭')\n",
    "a"
   ]
  },
  {
   "cell_type": "code",
   "execution_count": null,
   "metadata": {},
   "outputs": [],
   "source": [
    "a[0]['NickName']"
   ]
  },
  {
   "cell_type": "code",
   "execution_count": null,
   "metadata": {},
   "outputs": [],
   "source": [
    "itchat.send(\"asdfas\",a[0]['UserName'])"
   ]
  },
  {
   "cell_type": "code",
   "execution_count": null,
   "metadata": {},
   "outputs": [],
   "source": [
    "rooms=itchat.get_chatrooms()"
   ]
  },
  {
   "cell_type": "code",
   "execution_count": null,
   "metadata": {},
   "outputs": [],
   "source": [
    "kubi=itchat.search_chatrooms(name='音展2018')"
   ]
  },
  {
   "cell_type": "code",
   "execution_count": null,
   "metadata": {},
   "outputs": [],
   "source": [
    "ID_kubi=kubi[0]['UserName']"
   ]
  },
  {
   "cell_type": "code",
   "execution_count": null,
   "metadata": {},
   "outputs": [],
   "source": [
    "itchat.send(\"这是一条测试信息，由机器人发布，只要有人@我，\\\n",
    "            就会收到自动回复\",ID_kubi)"
   ]
  },
  {
   "cell_type": "code",
   "execution_count": null,
   "metadata": {},
   "outputs": [],
   "source": []
  },
  {
   "cell_type": "code",
   "execution_count": null,
   "metadata": {},
   "outputs": [],
   "source": [
    "itchat.auto_login(hotReload=True)\n",
    "KEY = '8edce3ce905a4c1dbb965e6b35c3834d'\n",
    "def get_response(msg):\n",
    "    apiUrl = 'http://www.tuling123.com/openapi/api'\n",
    "    data = {\n",
    "        'key'    : KEY,\n",
    "        'info'   : msg,\n",
    "        'userid' : 'wechat-robot',\n",
    "    }\n",
    "    try:\n",
    "        r = requests.post(apiUrl, data=data).json()\n",
    "        return r.get('text')\n",
    "    except:\n",
    "        return\n",
    "\n",
    "@itchat.msg_register(TEXT, isGroupChat=True)\n",
    "def text_reply(msg):\n",
    "    if(msg.isAt):\n",
    "        \n",
    "#         itchat.send_msg(\"收到来自{0}的消息，内容为{1}。\".format(msg['ActualNickName'],msg['Text']),toUserName=msg['FromUserName'])\n",
    "#         print(msg['Text'])\n",
    "        a=itchat.search_friends(name=msg['ActualNickName'])\n",
    "#         itchat.send('为了证明这是自动回复，我会告诉你现在时间是：',toUserName=msg['FromUserName'])\n",
    "#         datetime.datetime.now().strftime('%Y-%m-%d %H:%M:%S',toUserName=msg['FromUserName'])\n",
    "#         itchat.send('同时，你也会收到这条信息。')\n",
    "        itchat.send(get_response(msg['Text']),a[0]['UserName'])\n",
    "        itchat.send(msg['Text'])\n",
    "        \n",
    "itchat.run()"
   ]
  },
  {
   "cell_type": "code",
   "execution_count": 13,
   "metadata": {},
   "outputs": [],
   "source": [
    "from itchat.content import *"
   ]
  },
  {
   "cell_type": "code",
   "execution_count": 16,
   "metadata": {},
   "outputs": [
    {
     "name": "stderr",
     "output_type": "stream",
     "text": [
      "loading login status succeeded.\n",
      "Start auto replying.\n",
      "No uins in 51 message\n",
      "\n",
      "No uins in 51 message\n",
      "\n",
      "Request to send a image(mediaId: None) to @d537d086e5cd3498eda27706ea67bd6a: 180402-214629.png\n",
      "Request to upload a picture: 180402-214629.png\n"
     ]
    },
    {
     "name": "stdout",
     "output_type": "stream",
     "text": [
      "其他\n",
      "180402-214629.png\n"
     ]
    },
    {
     "name": "stderr",
     "output_type": "stream",
     "text": [
      "Dump login status for hot reload successfully.\n",
      "itchat received an ^C and exit.\n",
      "Bye~\n"
     ]
    }
   ],
   "source": [
    "itchat.auto_login(hotReload=True)\n",
    "# @itchat.msg_register(TEXT)\n",
    "# def text_reply(msg):\n",
    "#     print(u'消息')\n",
    "#     msg.user.send(msg.text)\n",
    "#     print( msg.text)\n",
    "    \n",
    "@itchat.msg_register([TEXT, MAP, CARD, NOTE, SHARING])\n",
    "def text_reply(msg):\n",
    "    print(u'消息')\n",
    "    msg.user.send('%s: %s' % (msg.type, msg.text))\n",
    "\n",
    "@itchat.msg_register([PICTURE, RECORDING, ATTACHMENT, VIDEO])\n",
    "def download_files(msg):\n",
    "    print(u'其他')\n",
    "    msg.download(msg.fileName)\n",
    "    print(msg.fileName)\n",
    "    typeSymbol = {\n",
    "        PICTURE: 'img',\n",
    "        VIDEO: 'vid', }.get(msg.type, 'fil')\n",
    "    return '@%s@%s' % (typeSymbol, msg.fileName)\n",
    "\n",
    "itchat.run(True)"
   ]
  },
  {
   "cell_type": "code",
   "execution_count": null,
   "metadata": {},
   "outputs": [],
   "source": []
  },
  {
   "cell_type": "code",
   "execution_count": null,
   "metadata": {},
   "outputs": [],
   "source": []
  }
 ],
 "metadata": {
  "kernelspec": {
   "display_name": "Python 3",
   "language": "python",
   "name": "python3"
  },
  "language_info": {
   "codemirror_mode": {
    "name": "ipython",
    "version": 3
   },
   "file_extension": ".py",
   "mimetype": "text/x-python",
   "name": "python",
   "nbconvert_exporter": "python",
   "pygments_lexer": "ipython3",
   "version": "3.6.3"
  }
 },
 "nbformat": 4,
 "nbformat_minor": 2
}
